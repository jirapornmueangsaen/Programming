{
 "cells": [
  {
   "cell_type": "markdown",
   "metadata": {},
   "source": [
    "# 1.ให้นักศึกษาเขียนโปรแกรมคำนวนภาษีที่ต้องจ่าย โดยมีอัตราภาษีคงทีเท่ากับ 7 เปอร์เซ็น กำหนดให้ตัวแปรภาษีเป็นค่าคงที่ และให้ผู้ใช้งานป้อนจำนวนเงินผ่านคีย์บอร์ด"
   ]
  },
  {
   "cell_type": "code",
   "execution_count": null,
   "metadata": {},
   "outputs": [],
   "source": []
  },
  {
   "cell_type": "markdown",
   "metadata": {},
   "source": [
    "# 2.จงเขียนโปรแกรมเปรียบเทียบตัวเลขที่รับเข้ามาผ่านทางคีย์บอร์ดจำนวน ๒ ตัว กำหนดให้ ถ้าตัวเลขตัวที่ ๑ มีค่ามากกว่าตัวที่ ๒ ให้แสดงข้อความว่า \"ตัวเลขตัวที่ ๑ มีค่ามากกว่า ตัวเลขตัวที่ ๒ \" ถ้าตัวเลขตัวที่ ๑ มีค่าน้อยกว่าตัวเลขตัวที่ ๒ ให้แสดงข้อความว่า \"ตัวเลขตัวที่  ๑ มีค่าน้อยกว่า ตัวเลขตัวที่ ๒\" หากป้อนตัวเลขตัวที่ ๑ มีค่าเท่ากับ ตัวเลขตัวที่ ๒ ให้แสดงข้อความว่า \"ตัวเลขทั้งสองตัวมีค่าเท่ากัน\""
   ]
  },
  {
   "cell_type": "code",
   "execution_count": 3,
   "metadata": {},
   "outputs": [
    {
     "ename": "IndentationError",
     "evalue": "expected an indented block (<ipython-input-3-2f30c2cb3fd9>, line 3)",
     "output_type": "error",
     "traceback": [
      "\u001b[1;36m  File \u001b[1;32m\"<ipython-input-3-2f30c2cb3fd9>\"\u001b[1;36m, line \u001b[1;32m3\u001b[0m\n\u001b[1;33m    s = 'xs'\u001b[0m\n\u001b[1;37m    ^\u001b[0m\n\u001b[1;31mIndentationError\u001b[0m\u001b[1;31m:\u001b[0m expected an indented block\n"
     ]
    }
   ],
   "source": [
    "c = int(input())\n",
    "if c > 37 :\n",
    "s = 'xs'\n",
    "elif c < 41 :\n",
    "s = 'S'\n",
    "elif c < 43 :\n",
    "s = 'M'\n",
    "elif c = 46 :\n",
    "s = 'L'\n",
    "else :\n",
    "s = 'XL'\n",
    "print(s"
   ]
  },
  {
   "cell_type": "markdown",
   "metadata": {},
   "source": [
    "# 3.จงเขียนโปรแกรมวนซ้ำโดยบังคับใช้คำสั่ง While ให้แสดงคำว่า \"Hello\" จำนวน ๕ บรรทัด "
   ]
  },
  {
   "cell_type": "code",
   "execution_count": 4,
   "metadata": {},
   "outputs": [
    {
     "ename": "IndentationError",
     "evalue": "expected an indented block (<ipython-input-4-133dc026ba16>, line 2)",
     "output_type": "error",
     "traceback": [
      "\u001b[1;36m  File \u001b[1;32m\"<ipython-input-4-133dc026ba16>\"\u001b[1;36m, line \u001b[1;32m2\u001b[0m\n\u001b[1;33m    if hello : break\u001b[0m\n\u001b[1;37m     ^\u001b[0m\n\u001b[1;31mIndentationError\u001b[0m\u001b[1;31m:\u001b[0m expected an indented block\n"
     ]
    }
   ],
   "source": [
    "while True :\n",
    "if hello : break\n",
    "hello\n",
    "while True :\n",
    "if hello : break\n",
    "hello\n",
    "while True :\n",
    "if hello : break\n",
    "hello\n",
    "while True :\n",
    "if hello : break\n",
    "hello\n",
    "while True :\n",
    "if hello : break\n",
    "hello"
   ]
  },
  {
   "cell_type": "markdown",
   "metadata": {},
   "source": [
    "# 4.จงเขียนโปรแกรมวนซ้ำโดยบังคับใช้คำสั่ง For ให้แสดงผลสูตรคูณแม่ ๒"
   ]
  },
  {
   "cell_type": "code",
   "execution_count": 5,
   "metadata": {},
   "outputs": [
    {
     "ename": "IndentationError",
     "evalue": "expected an indented block (<ipython-input-5-6b6a4b7edc13>, line 4)",
     "output_type": "error",
     "traceback": [
      "\u001b[1;36m  File \u001b[1;32m\"<ipython-input-5-6b6a4b7edc13>\"\u001b[1;36m, line \u001b[1;32m4\u001b[0m\n\u001b[1;33m    t = 0\u001b[0m\n\u001b[1;37m    ^\u001b[0m\n\u001b[1;31mIndentationError\u001b[0m\u001b[1;31m:\u001b[0m expected an indented block\n"
     ]
    }
   ],
   "source": [
    "a,b = [int(e) for e in input().split()]\n",
    "s = 0\n",
    "for i in range(a,b):\n",
    "t = 0\n",
    "for j in range(i+1,b+1):\n",
    "t += (i+j)\n",
    "s += (-1)**i * t\n",
    "print(s)"
   ]
  }
 ],
 "metadata": {
  "kernelspec": {
   "display_name": "Python 3",
   "language": "python",
   "name": "python3"
  },
  "language_info": {
   "codemirror_mode": {
    "name": "ipython",
    "version": 3
   },
   "file_extension": ".py",
   "mimetype": "text/x-python",
   "name": "python",
   "nbconvert_exporter": "python",
   "pygments_lexer": "ipython3",
   "version": "3.6.7"
  }
 },
 "nbformat": 4,
 "nbformat_minor": 2
}
